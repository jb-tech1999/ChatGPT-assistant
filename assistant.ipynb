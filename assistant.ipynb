{
 "cells": [
  {
   "cell_type": "code",
   "execution_count": 53,
   "metadata": {},
   "outputs": [],
   "source": [
    "from openai import OpenAI\n",
    "import os\n",
    "import stockhelper\n",
    "import json\n",
    "from dotenv import load_dotenv\n",
    "import time\n",
    "\n",
    "load_dotenv()\n",
    "\n",
    "client = OpenAI(api_key=os.getenv(\"OPENAI_KEY\"))"
   ]
  },
  {
   "cell_type": "code",
   "execution_count": 54,
   "metadata": {},
   "outputs": [],
   "source": [
    "assistant_id = 'asst_4xBZF4HGIDBiUeN46uWsNa6B'"
   ]
  },
  {
   "cell_type": "code",
   "execution_count": 55,
   "metadata": {},
   "outputs": [
    {
     "data": {
      "text/plain": [
       "Assistant(id='asst_4xBZF4HGIDBiUeN46uWsNa6B', created_at=1710332508, description=None, file_ids=[], instructions='Get the current stock price of a given symbol. If function returns None then the symbol is invalid.', metadata={}, model='gpt-3.5-turbo', name='Stock Price Assistant', object='assistant', tools=[ToolFunction(function=FunctionDefinition(name='get_stock_price', description='Get the current price of a stock for a given symbol. If function returns None then the symbol is invalid.', parameters={'type': 'object', 'properties': {'symbol': {'type': 'string', 'description': 'The stock symbol'}}, 'required': ['symbol']}), type='function')])"
      ]
     },
     "execution_count": 55,
     "metadata": {},
     "output_type": "execute_result"
    }
   ],
   "source": [
    "assistant = client.beta.assistants.retrieve(assistant_id)\n",
    "\n",
    "assistant"
   ]
  },
  {
   "cell_type": "code",
   "execution_count": 56,
   "metadata": {},
   "outputs": [
    {
     "data": {
      "text/plain": [
       "Thread(id='thread_VD4vFCfn5IAyT7uby6Tda5vs', created_at=1710405488, metadata={}, object='thread')"
      ]
     },
     "execution_count": 56,
     "metadata": {},
     "output_type": "execute_result"
    }
   ],
   "source": [
    "thread = client.beta.threads.create()\n",
    "thread"
   ]
  },
  {
   "cell_type": "code",
   "execution_count": 57,
   "metadata": {},
   "outputs": [],
   "source": [
    "run = client.beta.threads.runs.create(\n",
    "    thread_id = thread.id,\n",
    "    assistant_id = assistant_id,\n",
    "    instructions = \"What is the price of Nvidia stock?\"\n",
    ")\n",
    "run\n",
    "time.sleep(3)"
   ]
  },
  {
   "cell_type": "code",
   "execution_count": 58,
   "metadata": {},
   "outputs": [
    {
     "data": {
      "text/plain": [
       "Run(id='run_9lqzFdu5X0TlX5cOhGmUUKo2', assistant_id='asst_4xBZF4HGIDBiUeN46uWsNa6B', cancelled_at=None, completed_at=None, created_at=1710405489, expires_at=1710406089, failed_at=None, file_ids=[], instructions='What is the price of Nvidia stock?', last_error=None, metadata={}, model='gpt-3.5-turbo', object='thread.run', required_action=RequiredAction(submit_tool_outputs=RequiredActionSubmitToolOutputs(tool_calls=[RequiredActionFunctionToolCall(id='call_uVLF6c7wGKncEemGzB4VzXpe', function=Function(arguments='{\"symbol\":\"NVDA\"}', name='get_stock_price'), type='function')]), type='submit_tool_outputs'), started_at=1710405489, status='requires_action', thread_id='thread_VD4vFCfn5IAyT7uby6Tda5vs', tools=[ToolAssistantToolsFunction(function=FunctionDefinition(name='get_stock_price', description='Get the current price of a stock for a given symbol. If function returns None then the symbol is invalid.', parameters={'type': 'object', 'properties': {'symbol': {'type': 'string', 'description': 'The stock symbol'}}, 'required': ['symbol']}), type='function')], usage=None)"
      ]
     },
     "execution_count": 58,
     "metadata": {},
     "output_type": "execute_result"
    }
   ],
   "source": [
    "run = client.beta.threads.runs.retrieve(\n",
    "    thread_id = thread.id,\n",
    "    run_id=run.id\n",
    ")\n",
    "run"
   ]
  },
  {
   "cell_type": "code",
   "execution_count": 59,
   "metadata": {},
   "outputs": [
    {
     "data": {
      "text/plain": [
       "[{'tool_call_id': 'call_uVLF6c7wGKncEemGzB4VzXpe',\n",
       "  'output': '{\"symbol\": \"NVDA\", \"current_price\": 908.88, \"previous_close_price\": 919.13}'}]"
      ]
     },
     "execution_count": 59,
     "metadata": {},
     "output_type": "execute_result"
    }
   ],
   "source": [
    "def get_output_for_tool_call(tool_call):\n",
    "    stock_symbol = json.loads(tool_call.function.arguments)[\"symbol\"]\n",
    "    stock_details = stockhelper.get_stock_price(stock_symbol)\n",
    "    return {\n",
    "        \"tool_call_id\": tool_call.id,\n",
    "        \"output\": stock_details\n",
    "    }\n",
    "    \n",
    "tool_calls = run.required_action.submit_tool_outputs.tool_calls\n",
    "tool_outputs = map(get_output_for_tool_call, tool_calls)\n",
    "tool_outputs = list(tool_outputs)\n",
    "tool_outputs"
   ]
  },
  {
   "cell_type": "code",
   "execution_count": 60,
   "metadata": {},
   "outputs": [],
   "source": [
    "run = client.beta.threads.runs.submit_tool_outputs(\n",
    "    thread_id = thread.id,\n",
    "    run_id = run.id,\n",
    "    tool_outputs = tool_outputs\n",
    ")\n",
    "run\n",
    "time.sleep(1)"
   ]
  },
  {
   "cell_type": "code",
   "execution_count": 61,
   "metadata": {},
   "outputs": [
    {
     "data": {
      "text/plain": [
       "'The current price of Nvidia (NVDA) stock is $908.88.'"
      ]
     },
     "execution_count": 61,
     "metadata": {},
     "output_type": "execute_result"
    }
   ],
   "source": [
    "messages = client.beta.threads.messages.list(\n",
    "    thread_id = thread.id\n",
    ")\n",
    "messages.data[0].content[0].text.value"
   ]
  },
  {
   "cell_type": "code",
   "execution_count": null,
   "metadata": {},
   "outputs": [],
   "source": []
  }
 ],
 "metadata": {
  "kernelspec": {
   "display_name": "gpt",
   "language": "python",
   "name": "python3"
  },
  "language_info": {
   "codemirror_mode": {
    "name": "ipython",
    "version": 3
   },
   "file_extension": ".py",
   "mimetype": "text/x-python",
   "name": "python",
   "nbconvert_exporter": "python",
   "pygments_lexer": "ipython3",
   "version": "3.11.7"
  }
 },
 "nbformat": 4,
 "nbformat_minor": 2
}
